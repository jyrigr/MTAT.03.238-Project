{
  "nbformat": 4,
  "nbformat_minor": 0,
  "metadata": {
    "colab": {
      "name": "Sudoku.ipynb",
      "version": "0.3.2",
      "provenance": [],
      "collapsed_sections": [],
      "include_colab_link": true
    },
    "kernelspec": {
      "name": "python3",
      "display_name": "Python 3"
    },
    "accelerator": "GPU"
  },
  "cells": [
    {
      "cell_type": "markdown",
      "metadata": {
        "id": "view-in-github",
        "colab_type": "text"
      },
      "source": [
        "<a href=\"https://colab.research.google.com/github/jyrigr/MTAT.03.238-Project/blob/master/Sudoku.ipynb\" target=\"_parent\"><img src=\"https://colab.research.google.com/assets/colab-badge.svg\" alt=\"Open In Colab\"/></a>"
      ]
    },
    {
      "metadata": {
        "id": "hpCMew9gBOep",
        "colab_type": "text"
      },
      "cell_type": "markdown",
      "source": [
        "https://arxiv.org/abs/1805.03545"
      ]
    },
    {
      "metadata": {
        "id": "nGLlXreFESIs",
        "colab_type": "code",
        "colab": {}
      },
      "cell_type": "code",
      "source": [
        "import numpy as np"
      ],
      "execution_count": 0,
      "outputs": []
    },
    {
      "metadata": {
        "id": "AuYI8FIKEaFV",
        "colab_type": "code",
        "colab": {}
      },
      "cell_type": "code",
      "source": [
        "sudoku1 = np.array([[8,7,6,9,0,0,0,0,0], \n",
        "                    [0,1,0,0,0,6,0,0,0], \n",
        "                    [0,4,0,3,0,5,8,0,0], \n",
        "                    [4,0,0,0,0,0,2,1,0],\n",
        "                    [0,9,0,5,0,0,0,0,0],\n",
        "                    [0,5,0,0,4,0,3,0,6], \n",
        "                    [0,2,9,0,0,0,0,0,8],\n",
        "                    [0,0,4,6,9,0,1,7,3],\n",
        "                    [0,0,0,0,0,1,0,0,4]])"
      ],
      "execution_count": 0,
      "outputs": []
    },
    {
      "metadata": {
        "id": "6cO11tlEHLtn",
        "colab_type": "code",
        "outputId": "f75fabb5-1321-406a-c285-7ac22a285672",
        "colab": {
          "base_uri": "https://localhost:8080/",
          "height": 34
        }
      },
      "cell_type": "code",
      "source": [
        "# TEST CELL - test every little code you want to\n",
        "\n",
        "#sudoku1[0][3]\n",
        "#a = np.arange(1,10).reshape(-1, 1)\n",
        "#np.sqrt(9)\n",
        "#np.transpose(a)\n",
        "#np.reshape(a,(9,1))\n",
        "#a\n",
        "\n",
        "#a = np.array((1,2,3))[np.newaxis, :]\n",
        "#b = np.array((1,2,3))[:, np.newaxis]\n",
        "#c = np.matmul(b,a)\n",
        "\n",
        "#a = np.arange(0,9).reshape((3,3))\n",
        "#a.reshape((9,1))\n",
        "#a.transpose().reshape((9,1)) \n",
        "#b = np.hstack((a.reshape((9,1)), a.transpose().reshape((9,1))))\n",
        "#b\n",
        "\n",
        "#a = np.array((0,1,2))\n",
        "#b = np.ones((3,3))\n",
        "#c = np.array((0,9,18)).reshape(3,1)\n",
        "#a*b + np.arange(0,20,9).reshape(-1,1)\n",
        "#np.repeat([a],3, axis=0).flatten()\n",
        "#np.repeat([a],3)\n",
        "\n",
        "#wb=0\n",
        "#hb=0\n",
        "#r=3\n",
        "#a = np.array((0,1,2))\n",
        "#bx = np.repeat([a],r) + wb\n",
        "#by = np.repeat([a],r, axis=0).flatten() + hb\n",
        "#block_peers = np.hstack((bx,by))\n",
        "#block_peers\n",
        "\n",
        "#a = np.arange(0,20)\n",
        "#np.where(a[1:1+r] == 1)[0][0]\n",
        "#np.zeros((1,9+1)).transpose()\n",
        "\n",
        "#a= np.arange(1,20)\n",
        "#b = np.array((4,8,9))\n",
        "#a[b]\n",
        "\n",
        "a=np.array([1,0,0,0,0,1,1,0,0,0])\n",
        "#np.where(a[1:] == 1)[0].shape[0]\n",
        "#np.where(a[1:] == 1)[0][0]+1\n",
        "np.unique(a).shape[0]\n"
      ],
      "execution_count": 31,
      "outputs": [
        {
          "output_type": "execute_result",
          "data": {
            "text/plain": [
              "2"
            ]
          },
          "metadata": {
            "tags": []
          },
          "execution_count": 31
        }
      ]
    },
    {
      "metadata": {
        "id": "-b5uin6sF12Z",
        "colab_type": "code",
        "colab": {}
      },
      "cell_type": "code",
      "source": [
        "# UPDATE: using ONE-HOT vectors of shape(1,10) for value_sets. First value is 1 if cell has fixed value\n",
        "# also the corrsponding index is set to 1:\n",
        "# Example: if cell has a fxed value of 5\n",
        "# [1,0,0,0,0,1,0,0,0,0]\n",
        "#  0 1 2 3 4 5 6 7 8 9 <- indexes: index equals value of cell. 0 indicates if fixed\n",
        "\n",
        "def initialize(sudoku):\n",
        "    h,w = sudoku.shape # using w as 9\n",
        "    if h != w:\n",
        "        print(\"Not square sudoku\")\n",
        "        #return\n",
        "    new_sudoku = np.empty((h*w, w+1))\n",
        "    #new_sudoku = np.empty((h*w, w+1+20)) # if peers are added at initialization\n",
        "    for i in range(w): # ith row\n",
        "        for j in range(w): # jth column\n",
        "            \n",
        "            if sudoku[i][j] == 0:\n",
        "                value_set = np.ones((1,w+1))\n",
        "                value_set[0][0] = 0\n",
        "            else:\n",
        "                value_set = np.zeros((1,w+1))\n",
        "                value_set[0][0] = 1\n",
        "                value_set[0][sudoku[i][j]] = 1\n",
        "            new_sudoku[i*w+j] = value_set\n",
        "            #new_sudoku[i*w+j] = np.concatanate(value_set, find_peers(i*w+j, w)) # if peers are added at initialization\n",
        "    return new_sudoku"
      ],
      "execution_count": 0,
      "outputs": []
    },
    {
      "metadata": {
        "id": "Ot-Umj4qLvRG",
        "colab_type": "code",
        "colab": {}
      },
      "cell_type": "code",
      "source": [
        "sudoku2 = initialize(sudoku1)\n",
        "#sudoku2"
      ],
      "execution_count": 0,
      "outputs": []
    },
    {
      "metadata": {
        "id": "zsTOuuB6L2tu",
        "colab_type": "code",
        "colab": {}
      },
      "cell_type": "code",
      "source": [
        "# Every cell has its peers - cells \n",
        "def find_peers(index, range):\n",
        "    h = index // range\n",
        "    w = index % range\n",
        "    r = np.sqrt(range) # for 3x3 matrix range=9, r=3\n",
        "    wb = w // r\n",
        "    hb = h // r # Block index - shows in which 3x3 block the cell is\n",
        "    \n",
        "    hx = np.full((range,1), h) # vertical 9x1 array\n",
        "    hy = np.arange(0,range).reshape(-1, 1) # make it vertical\n",
        "    row_peers = np.hstack((hx,hy)) # concatenate to vertical arrays\n",
        "    #print(row_peers)\n",
        "    \n",
        "    wx = hy\n",
        "    wy = np.full((range,1), w)\n",
        "    column_peers = np.hstack((wx,wy)) # concatenate to vertical arrays\n",
        "    #column_peers2 = column_peers[:,0]*range + column_peers[:,1]\n",
        "    #print(column_peers2)\n",
        "    \n",
        "    a = np.array((0,1,2))\n",
        "    bx = np.repeat([a],r, axis=0).reshape(range, 1) + hb*r\n",
        "    by = np.repeat(a,r).reshape(-1, 1) + wb*r\n",
        "    block_peers = np.hstack((bx,by)) # concatenate to vertical arrays\n",
        "    #print(block_peers)\n",
        "    \n",
        "    peers = np.unique(np.vstack((row_peers, column_peers, block_peers)),axis=0)\n",
        "    #print(np.where((peers[:,0] == h) * (peers[:,1] == w))[0][0]) # Finds the index of the row where the cell is located\n",
        "    peers = np.delete(peers, np.where((peers[:,0] == h) * (peers[:,1] == w))[0][0], axis=0)\n",
        "    peers_1D = np.int8(peers[:,0]*range + peers[:,1])\n",
        "    \n",
        "    return peers_1D\n",
        "\n",
        "def constraint_propagation(sudoku):\n",
        "    c, r = sudoku.shape # cell index, range of values for each sell\n",
        "    r = r-1 # First column refers to fixed value. IMPORTANT: if the initialize funtion is changed so that the sudoku matrix stores peers, this value need to be redefined\n",
        "    change = 1\n",
        "    while change == 1: # go through the loop until there has been zero changes:\n",
        "        change = 0\n",
        "        for i in range(c):\n",
        "            peers = find_peers(i, r) # Always same output, would be okay to store in a variable. Maybe it should be added in the sudoku initialization.\n",
        "            if sudoku[i][0] == 1: # Cell value is fixed\n",
        "                value = np.where(sudoku[i][1:1+r] == 1)[0][0]+1\n",
        "                for p in peers:\n",
        "                    if sudoku[p][0] == 0 and sudoku[p][value] == 1: # if peer is not fixed, remove cell's value from its value_set\n",
        "                        sudoku[p][value] = 0\n",
        "                        if np.sum(sudoku[p][1:1+r]) == 1:\n",
        "                            sudoku[p][0] = 1 # if peers value_set has decreased to 1 value, declare peer fixed\n",
        "                        change = 1\n",
        "                    elif sudoku[p][0] == 1: # if peer is fixed\n",
        "                        peer_value = np.where(sudoku[p][1:1+r] == 1)[0][0]+1\n",
        "                        if sudoku[i][peer_value] == 1: # if peers value is in cells value_set\n",
        "                            sudoku[i][peer_value] = 0 # remove peers value from cells value_set\n",
        "                            if np.sum(sudoku[i][1:1+r]) == 1:\n",
        "                                sudoku[i][0] = 1 # if cells value_set has decreased to 1 value, declare cell fixed\n",
        "                            change = 1           \n",
        "    return sudoku\n",
        "\n",
        "\n",
        "def get_cell_value(cell):\n",
        "    if cell[0] == 1: # Check if cell is fixed\n",
        "        values = np.where(cell[1:] == 1) # find all indexes where value equals 1, leave out the first value that indicates if cell is fixed or not\n",
        "        if values[0].shape[0] == 1: # If there are more (or less) than one indeces returned, no one value can be returned\n",
        "            return values[0][0] + 1 # add one to get real value of cell\n",
        "    return 0 # Means not fixed, retrun 0\n",
        "\n",
        "def check_1D(row): #can be used for row, column or block\n",
        "    r = row.shape[0] # For 3x3 sudoku r=9, -> max value\n",
        "    values = np.unique([get_cell_value(cell) for cell in row]) # Use get_cell_value for each cell in row, keep unique values\n",
        "    # Check if there are n (9) different values, if largest = r (9) and if smallest = 1\n",
        "    if values.shape[0] == r and np.amax(values) == r and np.amin(values) == 1:\n",
        "        return True # If all correct, return True\n",
        "    return False # If some condition was not satisified, return False\n",
        "\n",
        "    \n",
        "def check_if_solved(sudoku):\n",
        "    checksum = np.unique(np.arange(1,10))\n",
        "    c, r = sudoku.shape # cell index, range of values for each sell\n",
        "    r = r-1 # range of values, for 3x3 sudoku r=9\n",
        "    R = np.int(np.sqrt(r)) # Rank of sudoku, for 9x9 sudoku R=3\n",
        "    \n",
        "    for i in range(r):\n",
        "        row =    i*r + np.arange(0,r,1) # every row starts with the index that is multiple of r, contains the next r values\n",
        "        column = i + np.arange(0, r*r, r) # every column starts with an index from 0 to r, the indexes for next values differ by r\n",
        "        # determine which block, multiply by Rank to get the start index of that block. Inside block, first row is always [0:R-1] (0,1,2 for Rank 3), add smae value to other rows. Add r for each next row start\n",
        "        block =  (i//R *R*r + i%R *R) + (np.arange(0,R,1, dtype=np.int_) * np.ones((R,R),dtype=np.int_) + np.arange(0,R*r,r, dtype=np.int_).reshape(-1,1)).flatten() # 0, 1, 2 for 9x9 sudoku * 3x3 ones\n",
        "        if (check_1D(sudoku[row]) and check_1D(sudoku[column]) and check_1D(sudoku[block])) == 0:\n",
        "            return False\n",
        "        \n",
        "        #if np.sum(sudoku[row]) != 18 or np.sum(sudoku[column]) != 18 or np.sum(sudoku[block]) != 18: # Primitive check that cheks if all values are fixed.\n",
        "        #    return False\n",
        "    return True\n",
        "        "
      ],
      "execution_count": 0,
      "outputs": []
    },
    {
      "metadata": {
        "id": "MHAyUaMVCORw",
        "colab_type": "code",
        "colab": {}
      },
      "cell_type": "code",
      "source": [
        "def output_initial_shape(sudoku): # Convert the sudoku to original rxr shape\n",
        "    c, r = sudoku.shape # cell index, range of values for each sell\n",
        "    r = r-1 # remove the fixed value indicator, for 9x9 sudoku r=9\n",
        "    out_sudoku = np.empty(c, dtype=np.int_) # c should equal r*r\n",
        "    for i in range(c):\n",
        "        out_sudoku[i] = get_cell_value(sudoku[i])\n",
        "    return out_sudoku.reshape((r,r))\n"
      ],
      "execution_count": 0,
      "outputs": []
    },
    {
      "metadata": {
        "id": "rpsiPsP-VU4z",
        "colab_type": "code",
        "outputId": "dd904e8f-be2a-43f2-d5cd-0f327e1de6ab",
        "colab": {
          "base_uri": "https://localhost:8080/",
          "height": 34
        }
      },
      "cell_type": "code",
      "source": [
        "sudoku3 = constraint_propagation(sudoku2)\n",
        "#sudoku2.shape\n",
        "check_if_solved(sudoku3)\n",
        "sudoku4 = output_initial_shape(sudoku3)"
      ],
      "execution_count": 61,
      "outputs": [
        {
          "output_type": "execute_result",
          "data": {
            "text/plain": [
              "True"
            ]
          },
          "metadata": {
            "tags": []
          },
          "execution_count": 61
        }
      ]
    },
    {
      "metadata": {
        "id": "qy0d98JYWfqK",
        "colab_type": "code",
        "colab": {}
      },
      "cell_type": "code",
      "source": [
        ""
      ],
      "execution_count": 0,
      "outputs": []
    },
    {
      "metadata": {
        "id": "pH9Uu6Iv-fRF",
        "colab_type": "code",
        "colab": {}
      },
      "cell_type": "code",
      "source": [
        ""
      ],
      "execution_count": 0,
      "outputs": []
    }
  ]
}