{
 "cells": [
  {
   "cell_type": "markdown",
   "metadata": {
    "colab_type": "text",
    "id": "hpCMew9gBOep"
   },
   "source": [
    "https://arxiv.org/abs/1805.03545"
   ]
  },
  {
   "cell_type": "code",
   "execution_count": 1,
   "metadata": {
    "colab": {},
    "colab_type": "code",
    "id": "nGLlXreFESIs"
   },
   "outputs": [],
   "source": [
    "import numpy as np\n",
    "import random\n",
    "from IPython.display import HTML, display, Image"
   ]
  },
  {
   "cell_type": "code",
   "execution_count": 2,
   "metadata": {
    "colab": {},
    "colab_type": "code",
    "id": "AuYI8FIKEaFV"
   },
   "outputs": [],
   "source": [
    "\"\"\"\n",
    "np.array([[0,0,0,0,0,0,0,0,0], \n",
    "                    [0,0,0,0,0,0,0,0,0], \n",
    "                    [0,0,0,0,0,0,0,0,0], \n",
    "                    [0,0,0,0,0,0,0,0,0],\n",
    "                    [0,0,0,0,0,0,0,0,0],\n",
    "                    [0,0,0,0,0,0,0,0,0], \n",
    "                    [0,0,0,0,0,0,0,0,0],\n",
    "                    [0,0,0,0,0,0,0,0,0],\n",
    "                    [0,0,0,0,0,0,0,0,0]])\n",
    "\"\"\"\n",
    "\n",
    "sudoku1 = np.array([[8,7,6,9,0,0,0,0,0], \n",
    "                    [0,1,0,0,0,6,0,0,0], \n",
    "                    [0,4,0,3,0,5,8,0,0], \n",
    "                    [4,0,0,0,0,0,2,1,0],\n",
    "                    [0,9,0,5,0,0,0,0,0],\n",
    "                    [0,5,0,0,4,0,3,0,6], \n",
    "                    [0,2,9,0,0,0,0,0,8],\n",
    "                    [0,0,4,6,9,0,1,7,3],\n",
    "                    [0,0,0,0,0,1,0,0,4]])\n",
    "\n"
   ]
  },
  {
   "cell_type": "code",
   "execution_count": 3,
   "metadata": {
    "colab": {},
    "colab_type": "code",
    "id": "-b5uin6sF12Z"
   },
   "outputs": [],
   "source": [
    "# UPDATE: using ONE-HOT vectors of shape(1,10) for value_sets. First value is 1 if cell has fixed value\n",
    "# also the corrsponding index is set to 1:\n",
    "# Example: if cell has a fxed value of 5\n",
    "# [1,0,0,0,0,1,0,0,0,0]\n",
    "#  0 1 2 3 4 5 6 7 8 9 <- indexes: index equals value of cell. 0 indicates if fixed\n",
    "\n",
    "def initialize(sudoku):\n",
    "    h,w = sudoku.shape # using w as 9\n",
    "    if h != w:\n",
    "        print(\"Not square sudoku\")\n",
    "        #return\n",
    "    new_sudoku = np.empty((h*w, w+1))\n",
    "    #new_sudoku = np.empty((h*w, w+1+20)) # if peers are added at initialization\n",
    "    for i in range(w): # ith row\n",
    "        for j in range(w): # jth column\n",
    "            \n",
    "            if sudoku[i][j] == 0:\n",
    "                value_set = np.ones((1,w+1))\n",
    "                value_set[0][0] = 0\n",
    "            else:\n",
    "                value_set = np.zeros((1,w+1))\n",
    "                value_set[0][0] = 1\n",
    "                value_set[0][sudoku[i][j]] = 1\n",
    "            new_sudoku[i*w+j] = value_set\n",
    "            #new_sudoku[i*w+j] = np.concatanate(value_set, find_peers(i*w+j, w)) # if peers are added at initialization\n",
    "    return new_sudoku"
   ]
  },
  {
   "cell_type": "code",
   "execution_count": 4,
   "metadata": {
    "colab": {},
    "colab_type": "code",
    "id": "zsTOuuB6L2tu"
   },
   "outputs": [],
   "source": [
    "# Every cell has its peers - cells \n",
    "def find_peers(index, range):\n",
    "    h = index // range\n",
    "    w = index % range\n",
    "    r = np.sqrt(range) # for 3x3 matrix range=9, r=3\n",
    "    wb = w // r\n",
    "    hb = h // r # Block index - shows in which 3x3 block the cell is\n",
    "    \n",
    "    hx = np.full((range,1), h) # vertical 9x1 array\n",
    "    hy = np.arange(0,range).reshape(-1, 1) # make it vertical\n",
    "    row_peers = np.hstack((hx,hy)) # concatenate to vertical arrays\n",
    "    #print(row_peers)\n",
    "    \n",
    "    wx = hy\n",
    "    wy = np.full((range,1), w)\n",
    "    column_peers = np.hstack((wx,wy)) # concatenate to vertical arrays\n",
    "    #column_peers2 = column_peers[:,0]*range + column_peers[:,1]\n",
    "    #print(column_peers2)\n",
    "    \n",
    "    a = np.array((0,1,2))\n",
    "    bx = np.repeat([a],r, axis=0).reshape(range, 1) + hb*r\n",
    "    by = np.repeat(a,r).reshape(-1, 1) + wb*r\n",
    "    block_peers = np.hstack((bx,by)) # concatenate to vertical arrays\n",
    "    #print(block_peers)\n",
    "    \n",
    "    peers = np.unique(np.vstack((row_peers, column_peers, block_peers)),axis=0)\n",
    "    #print(np.where((peers[:,0] == h) * (peers[:,1] == w))[0][0]) # Finds the index of the row where the cell is located\n",
    "    peers = np.delete(peers, np.where((peers[:,0] == h) * (peers[:,1] == w))[0][0], axis=0)\n",
    "    peers_1D = np.int8(peers[:,0]*range + peers[:,1])\n",
    "    \n",
    "    return peers_1D\n",
    "\n",
    "def constraint_propagation(sudoku):\n",
    "    c, r = sudoku.shape # cell index, range of values for each sell\n",
    "    r = r-1 # First column refers to fixed value. IMPORTANT: if the initialize funtion is changed so that the sudoku matrix stores peers, this value need to be redefined\n",
    "    change = 1\n",
    "    while change == 1: # go through the loop until there has been zero changes:\n",
    "        change = 0\n",
    "        for i in range(c):\n",
    "            peers = find_peers(i, r) # Always same output, would be okay to store in a variable. Maybe it should be added in the sudoku initialization.\n",
    "            if sudoku[i][0] == 1: # Cell value is fixed\n",
    "                value = np.where(sudoku[i][1:1+r] == 1)[0][0]+1\n",
    "                for p in peers:\n",
    "                    if np.sum(sudoku[p][1:1+r]) == 0:\n",
    "                        return sudoku, False\n",
    "                    if sudoku[p][0] == 0 and sudoku[p][value] == 1: # if peer is not fixed, remove cell's value from its value_set\n",
    "                        sudoku[p][value] = 0\n",
    "                        if np.sum(sudoku[p][1:1+r]) == 1:\n",
    "                            sudoku[p][0] = 1 # if peers value_set has decreased to 1 value, declare peer fixed\n",
    "                        change = 1\n",
    "                    elif sudoku[p][0] == 1: # if peer is fixed\n",
    "                        #print(sudoku[p][1:1+r])\n",
    "                        peer_value = np.where(sudoku[p][1:1+r] == 1)[0][0]+1\n",
    "                        if sudoku[i][peer_value] == 1: # if peers value is in cells value_set\n",
    "                            #print(value, peer_value)\n",
    "                            sudoku[i][peer_value] = 0 # remove peers value from cells value_set\n",
    "                            if np.sum(sudoku[i][1:1+r]) == 1:\n",
    "                                sudoku[i][0] = 1 # if cells value_set has decreased to 1 value, declare cell fixed\n",
    "                            change = 1\n",
    "    return sudoku, True\n",
    "\n",
    "def possible_values(cell): # If a cel lis fixed, it returns the cells value\n",
    "    values = np.where(cell[1:] == 1) + 1 # find all indexes where value equals 1, leave out the first value that indicates if cell is fixed or not\n",
    "    return values\n",
    "\n",
    "def get_cell_value(cell):\n",
    "    if cell[0] == 1: # Check if cell is fixed\n",
    "        values = np.where(cell[1:] == 1) # find all indexes where value equals 1, leave out the first value that indicates if cell is fixed or not\n",
    "        if values[0].shape[0] == 1: # If there are more (or less) than one indeces returned, no one value can be returned\n",
    "            return values[0][0] + 1 # add one to get real value of cell\n",
    "    return 0 # Means not fixed, retrun 0\n",
    "\n",
    "def check_1D(row): #can be used for row, column or block\n",
    "    r = row.shape[0] # For 3x3 sudoku r=9, -> max value\n",
    "    values = np.unique([get_cell_value(cell) for cell in row]) # Use get_cell_value for each cell in row, keep unique values\n",
    "    # Check if there are n (9) different values, if largest = r (9) and if smallest = 1\n",
    "    if values.shape[0] == r and np.amax(values) == r and np.amin(values) == 1:\n",
    "        return True # If all correct, return True\n",
    "    return False # If some condition was not satisified, return False\n",
    "\n",
    "    \n",
    "def check_if_solved(sudoku):\n",
    "    checksum = np.unique(np.arange(1,10))\n",
    "    c, r = sudoku.shape # cell index, range of values for each sell\n",
    "    r = r-1 # range of values, for 3x3 sudoku r=9\n",
    "    R = np.int(np.sqrt(r)) # Rank of sudoku, for 9x9 sudoku R=3\n",
    "    \n",
    "    for i in range(r):\n",
    "        row =    i*r + np.arange(0,r,1) # every row starts with the index that is multiple of r, contains the next r values\n",
    "        column = i + np.arange(0, r*r, r) # every column starts with an index from 0 to r, the indexes for next values differ by r\n",
    "        # determine which block, multiply by Rank to get the start index of that block. Inside block, first row is always [0:R-1] (0,1,2 for Rank 3), add smae value to other rows. Add r for each next row start\n",
    "        block =  (i//R *R*r + i%R *R) + (np.arange(0,R,1, dtype=np.int_) * np.ones((R,R),dtype=np.int_) + np.arange(0,R*r,r, dtype=np.int_).reshape(-1,1)).flatten() # 0, 1, 2 for 9x9 sudoku * 3x3 ones\n",
    "        if (check_1D(sudoku[row]) and check_1D(sudoku[column]) and check_1D(sudoku[block])) == 0:\n",
    "            return False\n",
    "        \n",
    "        #if np.sum(sudoku[row]) != 18 or np.sum(sudoku[column]) != 18 or np.sum(sudoku[block]) != 18: # Primitive check that cheks if all values are fixed.\n",
    "        #    return False\n",
    "    return True\n",
    "        "
   ]
  },
  {
   "cell_type": "code",
   "execution_count": 5,
   "metadata": {
    "colab": {},
    "colab_type": "code",
    "id": "Zvaf9s5m2T-h"
   },
   "outputs": [],
   "source": [
    "# Modified, should be more correct\n",
    "def constraint_propagation2(sudoku):\n",
    "    c, r = sudoku.shape # cell index, range of values for each sell\n",
    "    r = r-1 # First column refers to fixed value. IMPORTANT: if the initialize funtion is changed so that the sudoku matrix stores peers, this value need to be redefined\n",
    "    change = 1\n",
    "    while change == 1: # go through the loop until there has been zero changes:\n",
    "        change = 0\n",
    "        for i in range(c):# for every cell\n",
    "            peers = find_peers(i, r) # Always same output, would be okay to store in a variable. Maybe it should be added in the sudoku initialization.\n",
    "            \n",
    "            if sudoku[i][0] == 1: # Cell value is fixed\n",
    "                value = np.where(sudoku[i][1:1+r] == 1)[0][0]+1\n",
    "                for p in peers:\n",
    "                    if np.sum(sudoku[p][1:1+r]) == 0: # wrong solution\n",
    "                        return sudoku, False\n",
    "                    elif sudoku[p][0] == 0 and sudoku[p][value] == 1: # if peer is not fixed, remove cell's value from its value_set\n",
    "                        sudoku[p][value] = 0\n",
    "                        if np.sum(sudoku[p][1:1+r]) == 1:\n",
    "                            sudoku[p][0] = 1 # if peers value_set has decreased to 1 value, declare peer fixed\n",
    "                        change = 1\n",
    "            elif sudoku[i][0] == 0: # cell value is not fixed\n",
    "                for p in peers:\n",
    "                    if np.sum(sudoku[p][1:1+r]) == 0: # wrong solution\n",
    "                        return sudoku, False\n",
    "                    elif sudoku[p][0] == 1: # if peer is fixed\n",
    "                        #print(sudoku[p][1:1+r])\n",
    "                        peer_value = np.where(sudoku[p][1:1+r] == 1)[0][0]+1\n",
    "                        if sudoku[i][peer_value] == 1: # if peers value is in cells value_set\n",
    "                            sudoku[i][peer_value] = 0 # remove peers value from cells value_set\n",
    "                            if np.sum(sudoku[i][1:1+r]) == 1:\n",
    "                                sudoku[i][0] = 1 # if cells value_set has decreased to 1 value, declare cell fixed\n",
    "                            change = 1\n",
    "                    \n",
    "    return sudoku, True"
   ]
  },
  {
   "cell_type": "code",
   "execution_count": 6,
   "metadata": {
    "colab": {},
    "colab_type": "code",
    "id": "MHAyUaMVCORw"
   },
   "outputs": [],
   "source": [
    "def output_initial_shape(sudoku): # Convert the sudoku to original rxr shape\n",
    "    c, r = sudoku.shape # cell index, range of values for each sell\n",
    "    r = r-1 # remove the fixed value indicator, for 9x9 sudoku r=9\n",
    "    out_sudoku = np.empty(c, dtype=np.int_) # c should equal r*r\n",
    "    for i in range(c):\n",
    "        out_sudoku[i] = get_cell_value(sudoku[i])\n",
    "    return out_sudoku.reshape((r,r))\n"
   ]
  },
  {
   "cell_type": "code",
   "execution_count": 7,
   "metadata": {
    "colab": {},
    "colab_type": "code",
    "id": "Zf_jdoVLIWuY"
   },
   "outputs": [
    {
     "data": {
      "text/plain": [
       "29"
      ]
     },
     "execution_count": 7,
     "metadata": {},
     "output_type": "execute_result"
    }
   ],
   "source": [
    "# Hard sudokus (CP does nothing)\n",
    "\"\"\"\n",
    "sudoku = np.array([[8,6,0,0,2,0,0,0,0],\n",
    "                   [0,0,0,7,0,0,0,5,9], \n",
    "                   [0,0,0,0,0,0,0,0,0], \n",
    "                   [0,0,0,0,6,0,8,0,0],\n",
    "                   [0,4,0,0,0,0,0,0,0],\n",
    "                   [0,0,5,3,0,0,0,0,7], \n",
    "                   [0,0,0,0,0,0,0,0,0],\n",
    "                   [0,2,0,0,0,0,6,0,0],\n",
    "                   [0,0,7,5,0,9,0,0,0]])\n",
    "                   \"\"\"\n",
    "sudoku5 = np.array([[5,0,0,9,0,7,4,0,3],\n",
    "                    [0,4,0,0,0,0,6,0,7], \n",
    "                    [8,0,0,0,0,2,0,1,0], \n",
    "                    [0,0,8,3,0,0,0,7,0],\n",
    "                    [0,0,0,0,7,0,0,0,0],\n",
    "                    [0,3,0,0,0,4,2,0,0], \n",
    "                    [0,8,0,2,0,0,0,0,1],\n",
    "                    [7,0,3,0,0,0,0,6,0],\n",
    "                    [6,0,1,7,0,3,0,0,5]])\n",
    "\n",
    "np.count_nonzero(sudoku5)\n"
   ]
  },
  {
   "cell_type": "code",
   "execution_count": 8,
   "metadata": {
    "colab": {
     "base_uri": "https://localhost:8080/",
     "height": 35
    },
    "colab_type": "code",
    "executionInfo": {
     "elapsed": 691,
     "status": "ok",
     "timestamp": 1547595814722,
     "user": {
      "displayName": "Jüri Gramann",
      "photoUrl": "https://lh3.googleusercontent.com/-DQ7rBflwbl4/AAAAAAAAAAI/AAAAAAAAAIg/N-EKmPWO2Mc/s64/photo.jpg",
      "userId": "08670219787326948815"
     },
     "user_tz": -120
    },
    "id": "9Knt7foWNZ4D",
    "outputId": "56fb9250-1314-4461-b004-72a9a8e0ddab"
   },
   "outputs": [
    {
     "data": {
      "text/plain": [
       "7"
      ]
     },
     "execution_count": 8,
     "metadata": {},
     "output_type": "execute_result"
    }
   ],
   "source": [
    "## Global\n",
    "\n",
    "tau0 = 1/81 #1/d^2\n",
    "epsilon = 0.1\n",
    "\n",
    "def roulette(pheromones, cp_values):\n",
    "    cp_values = np.copy(cp_values)[-9:]\n",
    "    pheromones = np.copy(pheromones)*cp_values\n",
    "    r = random.random()*np.sum(pheromones)\n",
    "    for i in range(len(pheromones)):\n",
    "        r -= pheromones[i]\n",
    "        if r < 0:\n",
    "            return i+1\n",
    "        \n",
    "def generate_pheromones(cp_sudoku):\n",
    "    return np.full((81,9), tau0)\n",
    "\n",
    "def update_pheromones(master_pheromones, ant_pheromones):\n",
    "    pass\n",
    "\n",
    "roulette(np.full(9, tau0), np.array([1,0,0,0,0,0,1,1,0]))\n",
    "\n"
   ]
  },
  {
   "cell_type": "code",
   "execution_count": 68,
   "metadata": {
    "colab": {},
    "colab_type": "code",
    "id": "9LGsll8he4u5"
   },
   "outputs": [],
   "source": [
    "class Ant:\n",
    "    def __init__(self, cp_sudoku, pheromones, start):\n",
    "        self.in_sudoku = np.copy(cp_sudoku) # for comparisson\n",
    "        self.cp_sudoku = np.copy(cp_sudoku) # matrix 81x10\n",
    "        self.pheromones = np.copy(pheromones) # matrix 81x9\n",
    "        self.start = start # integer 0...81\n",
    "        self.cells, self.r = self.cp_sudoku.shape #cells =81\n",
    "        #r = r-1 #9\n",
    "        \n",
    "    def run(self):\n",
    "        # Run over all cells\n",
    "        for i in range(self.cells):\n",
    "            # if cell value not set\n",
    "            if self.cp_sudoku[self.start-i, 0] == 0 and np.sum(self.cp_sudoku[self.start-i]) != 0:\n",
    "                # Choose weighted random value\n",
    "                cell_random = roulette(self.pheromones[self.start-i], self.cp_sudoku[self.start-i])\n",
    "                # Set that value in the sudoku\n",
    "                self.cp_sudoku[self.start-i] = [1,0,0,0,0,0,0,0,0,0]\n",
    "                self.cp_sudoku[self.start-i, cell_random] = 1\n",
    "                # Run CP\n",
    "                constraint_propagation(self.cp_sudoku)\n",
    "                #if tf == False:\n",
    "                    #self.result = 0\n",
    "                    #print(\"stupid ant\")\n",
    "                    #return\n",
    "                    #continue\n",
    "                    \n",
    "                # Update pheromone table\n",
    "                self.pheromones[self.start-i, cell_random-1] = (1-epsilon)*self.pheromones[self.start-i, cell_random-1] + epsilon*tau0\n",
    "        \n",
    "        for i in range(len(self.cp_sudoku)):\n",
    "            if np.sum(self.cp_sudoku[i])==1:\n",
    "                self.cp_sudoku[i] = np.zeros(10)\n",
    "        \n",
    "        changed_cells = np.count_nonzero(self.cp_sudoku[:,0]) - np.count_nonzero(self.in_sudoku[:,0])\n",
    "        self.result = 81/(81-changed_cells)\n",
    "        return\n",
    "        "
   ]
  },
  {
   "cell_type": "code",
   "execution_count": 11,
   "metadata": {
    "colab": {},
    "colab_type": "code",
    "id": "pH9Uu6Iv-fRF"
   },
   "outputs": [],
   "source": [
    "# Displays 9x9 matrix as a sudoku\n",
    "def display_sudoku(sudoku):\n",
    "    display(HTML(\"\"\"\n",
    "    <style>\n",
    "    table {\n",
    "    margin:1em auto;\n",
    "    display:table;\n",
    "    border: 4px solid;\n",
    "    border-collapse: collapse;\n",
    "    position: relative;\n",
    "    }\n",
    "    table tr {\n",
    "    display:table-row;\n",
    "    position: relative;\n",
    "    z-index:-1;\n",
    "    }\n",
    "    table td{\n",
    "    display:table-cell;\n",
    "    padding:8px;\n",
    "    border: 1px solid;\n",
    "    text-align: center;\n",
    "    }\n",
    "\n",
    "    table td:nth-child(3), table td:nth-child(6){border-right: 4px solid; } /*vertical*/\n",
    "    table tr:nth-child(3) td, table tr:nth-child(6) td{border-bottom: 4px solid;}  /*horizontal*/\n",
    "    </style>\n",
    "    \"\"\" +\n",
    "    '<table><tr>{}</tr></table>'.format(\n",
    "      '</tr><tr>'.join(\n",
    "          '<td>{}</td>'.format('</td><td>'.join((\"\" if _==0 else str(_)) for _ in row)) for row in sudoku)\n",
    "      )\n",
    "    ))\n",
    "    \n",
    "    return\n",
    "\n"
   ]
  },
  {
   "cell_type": "code",
   "execution_count": 12,
   "metadata": {
    "colab": {},
    "colab_type": "code",
    "id": "BQ4da0D_dn3Y"
   },
   "outputs": [],
   "source": [
    "def get_empty_cells(sudoku): #returns the index of empty cells\n",
    "    empty_ix = []\n",
    "    i = 0\n",
    "    empty_cells = np.where(sudoku[:,0] == 0)\n",
    "    return empty_cells \n",
    "\n",
    "def comparison_pheromen(empty_sudoku, filled_sudoku):\n",
    "    changed_cells = np.where(empty_sudoku[:,0] == 0 and filled_sudoku[:,0] == 1)\n",
    "    pheromen_update = filled_sudoku[changed_cells]#[:,1:] # Outputs [1,0,0,0,0,1,0,0,0,0] for value 5\n",
    "    "
   ]
  },
  {
   "cell_type": "code",
   "execution_count": 69,
   "metadata": {
    "colab": {
     "base_uri": "https://localhost:8080/",
     "height": 386
    },
    "colab_type": "code",
    "executionInfo": {
     "elapsed": 173630,
     "status": "ok",
     "timestamp": 1547581475767,
     "user": {
      "displayName": "Raid Vellerind",
      "photoUrl": "https://lh6.googleusercontent.com/--jmtisQlMaI/AAAAAAAAAAI/AAAAAAAAWUM/ZJjRQnlInpQ/s64/photo.jpg",
      "userId": "03407486632613206544"
     },
     "user_tz": -120
    },
    "id": "qy0d98JYWfqK",
    "outputId": "fe71de37-5cfd-4ed4-c278-de3837f491c0"
   },
   "outputs": [
    {
     "name": "stdout",
     "output_type": "stream",
     "text": [
      "Initial sudoku.\n"
     ]
    },
    {
     "data": {
      "text/html": [
       "\n",
       "    <style>\n",
       "    table {\n",
       "    margin:1em auto;\n",
       "    display:table;\n",
       "    border: 4px solid;\n",
       "    border-collapse: collapse;\n",
       "    position: relative;\n",
       "    }\n",
       "    table tr {\n",
       "    display:table-row;\n",
       "    position: relative;\n",
       "    z-index:-1;\n",
       "    }\n",
       "    table td{\n",
       "    display:table-cell;\n",
       "    padding:8px;\n",
       "    border: 1px solid;\n",
       "    text-align: center;\n",
       "    }\n",
       "\n",
       "    table td:nth-child(3), table td:nth-child(6){border-right: 4px solid; } /*vertical*/\n",
       "    table tr:nth-child(3) td, table tr:nth-child(6) td{border-bottom: 4px solid;}  /*horizontal*/\n",
       "    </style>\n",
       "    <table><tr><td>5</td><td></td><td></td><td>9</td><td></td><td>7</td><td>4</td><td></td><td>3</td></tr><tr><td></td><td>4</td><td></td><td></td><td></td><td></td><td>6</td><td></td><td>7</td></tr><tr><td>8</td><td></td><td></td><td></td><td></td><td>2</td><td></td><td>1</td><td></td></tr><tr><td></td><td></td><td>8</td><td>3</td><td></td><td></td><td></td><td>7</td><td></td></tr><tr><td></td><td></td><td></td><td></td><td>7</td><td></td><td></td><td></td><td></td></tr><tr><td></td><td>3</td><td></td><td></td><td></td><td>4</td><td>2</td><td></td><td></td></tr><tr><td></td><td>8</td><td></td><td>2</td><td></td><td></td><td></td><td></td><td>1</td></tr><tr><td>7</td><td></td><td>3</td><td></td><td></td><td></td><td></td><td>6</td><td></td></tr><tr><td>6</td><td></td><td>1</td><td>7</td><td></td><td>3</td><td></td><td></td><td>5</td></tr></table>"
      ],
      "text/plain": [
       "<IPython.core.display.HTML object>"
      ]
     },
     "metadata": {},
     "output_type": "display_data"
    },
    {
     "data": {
      "text/html": [
       "\n",
       "    <style>\n",
       "    table {\n",
       "    margin:1em auto;\n",
       "    display:table;\n",
       "    border: 4px solid;\n",
       "    border-collapse: collapse;\n",
       "    position: relative;\n",
       "    }\n",
       "    table tr {\n",
       "    display:table-row;\n",
       "    position: relative;\n",
       "    z-index:-1;\n",
       "    }\n",
       "    table td{\n",
       "    display:table-cell;\n",
       "    padding:8px;\n",
       "    border: 1px solid;\n",
       "    text-align: center;\n",
       "    }\n",
       "\n",
       "    table td:nth-child(3), table td:nth-child(6){border-right: 4px solid; } /*vertical*/\n",
       "    table tr:nth-child(3) td, table tr:nth-child(6) td{border-bottom: 4px solid;}  /*horizontal*/\n",
       "    </style>\n",
       "    <table><tr><td>5</td><td></td><td></td><td>9</td><td></td><td>7</td><td>4</td><td></td><td>3</td></tr><tr><td></td><td>4</td><td></td><td></td><td></td><td></td><td>6</td><td></td><td>7</td></tr><tr><td>8</td><td></td><td></td><td></td><td></td><td>2</td><td>5</td><td>1</td><td>9</td></tr><tr><td></td><td></td><td>8</td><td>3</td><td></td><td></td><td></td><td>7</td><td></td></tr><tr><td></td><td></td><td></td><td></td><td>7</td><td></td><td></td><td></td><td></td></tr><tr><td></td><td>3</td><td></td><td></td><td></td><td>4</td><td>2</td><td></td><td></td></tr><tr><td></td><td>8</td><td></td><td>2</td><td></td><td></td><td></td><td></td><td>1</td></tr><tr><td>7</td><td></td><td>3</td><td></td><td></td><td></td><td></td><td>6</td><td></td></tr><tr><td>6</td><td></td><td>1</td><td>7</td><td></td><td>3</td><td></td><td></td><td>5</td></tr></table>"
      ],
      "text/plain": [
       "<IPython.core.display.HTML object>"
      ]
     },
     "metadata": {},
     "output_type": "display_data"
    },
    {
     "name": "stdout",
     "output_type": "stream",
     "text": [
      "1\n",
      "48\n",
      "48\n",
      "49\n",
      "49\n",
      "49\n",
      "48\n",
      "48\n",
      "49\n",
      "47\n",
      "48\n",
      "2\n",
      "49\n",
      "49\n",
      "49\n",
      "48\n",
      "49\n",
      "49\n",
      "49\n",
      "49\n",
      "48\n",
      "49\n",
      "3\n",
      "49\n",
      "49\n",
      "49\n",
      "49\n",
      "49\n",
      "48\n",
      "49\n",
      "50\n",
      "49\n",
      "49\n"
     ]
    },
    {
     "data": {
      "text/html": [
       "\n",
       "    <style>\n",
       "    table {\n",
       "    margin:1em auto;\n",
       "    display:table;\n",
       "    border: 4px solid;\n",
       "    border-collapse: collapse;\n",
       "    position: relative;\n",
       "    }\n",
       "    table tr {\n",
       "    display:table-row;\n",
       "    position: relative;\n",
       "    z-index:-1;\n",
       "    }\n",
       "    table td{\n",
       "    display:table-cell;\n",
       "    padding:8px;\n",
       "    border: 1px solid;\n",
       "    text-align: center;\n",
       "    }\n",
       "\n",
       "    table td:nth-child(3), table td:nth-child(6){border-right: 4px solid; } /*vertical*/\n",
       "    table tr:nth-child(3) td, table tr:nth-child(6) td{border-bottom: 4px solid;}  /*horizontal*/\n",
       "    </style>\n",
       "    <table><tr><td>5</td><td>1</td><td>2</td><td>9</td><td>6</td><td>7</td><td>4</td><td>8</td><td>3</td></tr><tr><td>3</td><td>4</td><td>9</td><td>5</td><td>1</td><td>8</td><td>6</td><td>2</td><td>7</td></tr><tr><td>8</td><td>7</td><td>6</td><td>4</td><td>3</td><td>2</td><td>5</td><td>1</td><td>9</td></tr><tr><td>4</td><td>9</td><td>8</td><td>3</td><td>2</td><td>5</td><td>1</td><td>7</td><td>6</td></tr><tr><td>2</td><td>6</td><td>5</td><td>8</td><td>7</td><td>1</td><td>3</td><td>9</td><td>4</td></tr><tr><td>1</td><td>3</td><td>7</td><td>6</td><td>9</td><td>4</td><td>2</td><td>5</td><td>8</td></tr><tr><td>9</td><td>8</td><td>4</td><td>2</td><td>5</td><td>6</td><td>7</td><td>3</td><td>1</td></tr><tr><td>7</td><td>5</td><td>3</td><td>1</td><td>4</td><td>9</td><td>8</td><td>6</td><td>2</td></tr><tr><td>6</td><td>2</td><td>1</td><td>7</td><td>8</td><td>3</td><td>9</td><td>4</td><td>5</td></tr></table>"
      ],
      "text/plain": [
       "<IPython.core.display.HTML object>"
      ]
     },
     "metadata": {},
     "output_type": "display_data"
    }
   ],
   "source": [
    "def solve_sudoku(sudoku, ant_num = 10, evaporation_parameter = 0.9): \n",
    "    print(\"Initial sudoku.\")\n",
    "    display_sudoku(sudoku)\n",
    "    sudoku = initialize(sudoku)\n",
    "    sudoku, tf = constraint_propagation(sudoku)\n",
    "    display_sudoku(output_initial_shape(sudoku))\n",
    "    if tf == False:\n",
    "        print(\"Error in sudoku\")\n",
    "        return output_initial_shape(sudoku)\n",
    "    #print(sudoku.shape)\n",
    "    #print(\"CP sudoku.\")\n",
    "    #display_sudoku(output_initial_shape(sudoku))\n",
    "    \n",
    "    d_tau = 1\n",
    "    global_pheromones = generate_pheromones(sudoku)\n",
    "    \n",
    "    gen = 0\n",
    "    while not check_if_solved(sudoku):\n",
    "        \n",
    "        \"\"\"\n",
    "        if gen == 20:\n",
    "            print(global_pheromones)\n",
    "        \"\"\"\n",
    "        gen+=1\n",
    "        \n",
    "        \n",
    "        ants = [Ant(sudoku, global_pheromones, int(random.random()*81)) for i in range(ant_num)] # int(random.random()*81)\n",
    "        bestant = ants[0]\n",
    "        for ant in ants:\n",
    "            ant.run()\n",
    "            if ant.result > bestant.result:\n",
    "                bestant = ant\n",
    "        \n",
    "        d_tau = max(d_tau, bestant.result)\n",
    "        global_pheromones = (1-evaporation_parameter) * bestant.pheromones + d_tau * evaporation_parameter\n",
    "        d_tau = d_tau * 0.995 # 1-f_{BVE}\n",
    "        \n",
    "        if check_if_solved(bestant.cp_sudoku):\n",
    "            break\n",
    "            \n",
    "        \n",
    "    #print(global_pheromones)\n",
    "    print(gen)\n",
    "    return output_initial_shape(bestant.cp_sudoku), gen\n",
    "\n",
    "\n",
    "display_sudoku(solve_sudoku(sudoku5)[0])"
   ]
  },
  {
   "cell_type": "code",
   "execution_count": null,
   "metadata": {
    "colab": {},
    "colab_type": "code",
    "id": "v7Z_m7LkIiSH"
   },
   "outputs": [],
   "source": []
  }
 ],
 "metadata": {
  "accelerator": "GPU",
  "colab": {
   "collapsed_sections": [],
   "name": "Sudoku.ipynb",
   "provenance": [],
   "version": "0.3.2"
  },
  "kernelspec": {
   "display_name": "Python 3",
   "language": "python",
   "name": "python3"
  },
  "language_info": {
   "codemirror_mode": {
    "name": "ipython",
    "version": 3
   },
   "file_extension": ".py",
   "mimetype": "text/x-python",
   "name": "python",
   "nbconvert_exporter": "python",
   "pygments_lexer": "ipython3",
   "version": "3.6.5"
  }
 },
 "nbformat": 4,
 "nbformat_minor": 1
}
