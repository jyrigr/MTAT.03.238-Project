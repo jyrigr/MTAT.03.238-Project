{
  "nbformat": 4,
  "nbformat_minor": 0,
  "metadata": {
    "colab": {
      "name": "Sudoku.ipynb",
      "version": "0.3.2",
      "provenance": [],
      "collapsed_sections": []
    },
    "kernelspec": {
      "name": "python3",
      "display_name": "Python 3"
    },
    "accelerator": "GPU"
  },
  "cells": [
    {
      "metadata": {
        "id": "nGLlXreFESIs",
        "colab_type": "code",
        "colab": {}
      },
      "cell_type": "code",
      "source": [
        "import numpy as np"
      ],
      "execution_count": 0,
      "outputs": []
    },
    {
      "metadata": {
        "id": "AuYI8FIKEaFV",
        "colab_type": "code",
        "colab": {}
      },
      "cell_type": "code",
      "source": [
        "sudoku1 = np.array([[8,7,6,9,0,0,0,0,0], \n",
        "                    [0,1,0,0,0,6,0,0,0], \n",
        "                    [0,4,0,3,0,5,8,0,0], \n",
        "                    [4,0,0,0,0,0,2,1,0],\n",
        "                    [0,9,0,5,0,0,0,0,0],\n",
        "                    [0,5,0,0,4,0,3,0,6], \n",
        "                    [0,2,9,0,0,0,0,0,8],\n",
        "                    [0,0,4,6,9,0,1,7,3],\n",
        "                    [0,0,0,0,0,1,0,0,4]])"
      ],
      "execution_count": 0,
      "outputs": []
    },
    {
      "metadata": {
        "id": "6cO11tlEHLtn",
        "colab_type": "code",
        "colab": {
          "base_uri": "https://localhost:8080/",
          "height": 34
        },
        "outputId": "f6909dfd-68e7-4b00-fbed-6ede76e8d67e"
      },
      "cell_type": "code",
      "source": [
        "# TEST CELL - test every little code you want to\n",
        "\n",
        "#sudoku1[0][3]\n",
        "#a = np.arange(1,10).reshape(-1, 1)\n",
        "#np.sqrt(9)\n",
        "#np.transpose(a)\n",
        "#np.reshape(a,(9,1))\n",
        "#a\n",
        "\n",
        "#a = np.array((1,2,3))[np.newaxis, :]\n",
        "#b = np.array((1,2,3))[:, np.newaxis]\n",
        "#c = np.matmul(b,a)\n",
        "\n",
        "#a = np.arange(0,9).reshape((3,3))\n",
        "#a.reshape((9,1))\n",
        "#a.transpose().reshape((9,1)) \n",
        "#b = np.hstack((a.reshape((9,1)), a.transpose().reshape((9,1))))\n",
        "#b\n",
        "\n",
        "#a = np.array((0,1,2))\n",
        "#b = np.ones((3,3))\n",
        "#c = np.array((0,9,18)).reshape(3,1)\n",
        "#a*b + np.arange(0,20,9).reshape(-1,1)\n",
        "#np.repeat([a],3, axis=0).flatten()\n",
        "#np.repeat([a],3)\n",
        "\n",
        "#wb=0\n",
        "#hb=0\n",
        "#r=3\n",
        "#a = np.array((0,1,2))\n",
        "#bx = np.repeat([a],r) + wb\n",
        "#by = np.repeat([a],r, axis=0).flatten() + hb\n",
        "#block_peers = np.hstack((bx,by))\n",
        "#block_peers\n",
        "\n",
        "#a = np.arange(0,20)\n",
        "#np.where(a[1:1+r] == 2)[0][0]\n",
        "#np.zeros((1,9+1)).transpose()\n",
        "\n",
        "a= np.arange(1,20)\n",
        "b = np.array((4,8,9))\n",
        "a[b]"
      ],
      "execution_count": 198,
      "outputs": [
        {
          "output_type": "execute_result",
          "data": {
            "text/plain": [
              "array([ 5,  9, 10])"
            ]
          },
          "metadata": {
            "tags": []
          },
          "execution_count": 198
        }
      ]
    },
    {
      "metadata": {
        "id": "-b5uin6sF12Z",
        "colab_type": "code",
        "colab": {}
      },
      "cell_type": "code",
      "source": [
        "# UPDATE: using ONE-HOT vectors of shape(1,10) for value_sets. First value is 1 if cell has fixed value\n",
        "# also the corrsponding index is set to 1:\n",
        "# Example: if cell has a fxed value of 5\n",
        "# [1,0,0,0,0,1,0,0,0,0]\n",
        "#  0 1 2 3 4 5 6 7 8 9 <- indexes: index equals value of cell. 0 indicates if fixed\n",
        "\n",
        "def initialize(sudoku):\n",
        "    h,w = sudoku.shape # using w as 9\n",
        "    if h != w:\n",
        "        print(\"Not square sudoku\")\n",
        "        #return\n",
        "    new_sudoku = np.empty((h*w, w+1))\n",
        "    #new_sudoku = np.empty((h*w, w+1+20)) # if peers are added at initialization\n",
        "    for i in range(w): # ith row\n",
        "        for j in range(w): # jth column\n",
        "            \n",
        "            if sudoku[i][j] == 0:\n",
        "                value_set = np.ones((1,w+1))\n",
        "                value_set[0][0] = 0\n",
        "            else:\n",
        "                value_set = np.zeros((1,w+1))\n",
        "                value_set[0][0] = 1\n",
        "                value_set[0][sudoku[i][j]] = 1\n",
        "            new_sudoku[i*w+j] = value_set\n",
        "            #new_sudoku[i*w+j] = np.concatanate(value_set, find_peers(i*w+j, w)) # if peers are added at initialization\n",
        "    return new_sudoku"
      ],
      "execution_count": 0,
      "outputs": []
    },
    {
      "metadata": {
        "id": "Ot-Umj4qLvRG",
        "colab_type": "code",
        "colab": {}
      },
      "cell_type": "code",
      "source": [
        "sudoku2 = initialize(sudoku1)\n",
        "#sudoku2"
      ],
      "execution_count": 0,
      "outputs": []
    },
    {
      "metadata": {
        "id": "zsTOuuB6L2tu",
        "colab_type": "code",
        "colab": {}
      },
      "cell_type": "code",
      "source": [
        "def find_peers(index, range):\n",
        "    h = index // range\n",
        "    w = index % range\n",
        "    r = np.sqrt(range) # for 3x3 matrix range=9, r=3\n",
        "    wb = w // r\n",
        "    hb = h // r # Block index - shows in which 3x3 block the cell is\n",
        "    \n",
        "    hx = np.full((range,1), h) # vertical 9x1 array\n",
        "    hy = np.arange(0,range).reshape(-1, 1) # make it vertical\n",
        "    row_peers = np.hstack((hx,hy)) # concatenate to vertical arrays\n",
        "    #print(row_peers)\n",
        "    \n",
        "    wx = hy\n",
        "    wy = np.full((range,1), w)\n",
        "    column_peers = np.hstack((wx,wy)) # concatenate to vertical arrays\n",
        "    #column_peers2 = column_peers[:,0]*range + column_peers[:,1]\n",
        "    #print(column_peers2)\n",
        "    \n",
        "    a = np.array((0,1,2))\n",
        "    bx = np.repeat([a],r, axis=0).reshape(range, 1) + hb*r\n",
        "    by = np.repeat(a,r).reshape(-1, 1) + wb*r\n",
        "    block_peers = np.hstack((bx,by)) # concatenate to vertical arrays\n",
        "    #print(block_peers)\n",
        "    \n",
        "    peers = np.unique(np.vstack((row_peers, column_peers, block_peers)),axis=0)\n",
        "    #print(np.where((peers[:,0] == h) * (peers[:,1] == w))[0][0]) # Finds the index of the row where the cell is located\n",
        "    peers = np.delete(peers, np.where((peers[:,0] == h) * (peers[:,1] == w))[0][0], axis=0)\n",
        "    peers_1D = np.int8(peers[:,0]*range + peers[:,1])\n",
        "    \n",
        "    return peers_1D\n",
        "\n",
        "def constraint_propagation(sudoku):\n",
        "    c, r = sudoku.shape # cell index, range of values for each sell\n",
        "    r = r-1 # First column refers to fixed value. IMPORTANT: if the initialize funtion is changed so that the sudoku matrix stores peers, this value need to be redefined\n",
        "    change = 1\n",
        "    while change == 1: # go through the loop until there has been zero changes:\n",
        "        change = 0\n",
        "        for i in range(c):\n",
        "            peers = find_peers(i, r) # Always same output, would be okay to store in a variable. Maybe it should be added in the sudoku initialization.\n",
        "            if sudoku[i][0] == 1: # Cell value is fixed\n",
        "                value = np.where(sudoku[i][1:1+r] == 1)[0][0]+1\n",
        "                for p in peers:\n",
        "                    if sudoku[p][0] == 0 and sudoku[p][value] == 1: # if peer is not fixed, remove cell's value from its value_set\n",
        "                        sudoku[p][value] = 0\n",
        "                        if np.sum(sudoku[p][1:1+r]) == 1:\n",
        "                            sudoku[p][0] = 1 # if peers value_set has decreased to 1 value, declare peer fixed\n",
        "                        change = 1\n",
        "                    elif sudoku[p][0] == 1: # if peer is fixed\n",
        "                        peer_value = np.where(sudoku[p][1:1+r] == 1)[0][0]+1\n",
        "                        if sudoku[i][peer_value] == 1: # if peers value is in cells value_set\n",
        "                            sudoku[i][peer_value] = 0 # remove peers value from cells value_set\n",
        "                            if np.sum(sudoku[i][1:1+r]) == 1:\n",
        "                                sudoku[i][0] = 1 # if cells value_set has decreased to 1 value, declare cell fixed\n",
        "                            change = 1\n",
        "                \n",
        "    return sudoku\n",
        "\n",
        "def output_9x9(sudoku):\n",
        "    c, r = sudoku.shape # cell index, range of values for each sell\n",
        "    r = r-1\n",
        "    out_sudoku = np.empty(c)\n",
        "    for i in range(c):\n",
        "        if sudoku[i][0] == 1:\n",
        "            out_sudoku[i] = np.where(sudoku[i][1:1+r] == 1)[0][0]+1\n",
        "        else:\n",
        "             out_sudoku[i] = 0\n",
        "    return out_sudoku.reshape((r,r))\n",
        "        \n",
        "def check_if_solved(sudoku):\n",
        "    checksum = np.unique(np.arange(1,10))\n",
        "    c, r = sudoku.shape # cell index, range of values for each sell\n",
        "    r = r-1\n",
        "    R = np.int(np.sqrt(r))\n",
        "    \n",
        "    for i in range(r):\n",
        "        row =    i*r + np.arange(0,r,1)\n",
        "        column = i + np.arange(0, r*r, r)\n",
        "        block =  (i//R*R*r + i%R*R) + (np.arange(0,R,1, dtype=np.int_) * np.ones((R,R),dtype=np.int_) + np.arange(0,R*r,r, dtype=np.int_).reshape(-1,1)).flatten() # 0, 1, 2 for 9x9 sudoku * 3x3 ones\n",
        "        if np.sum(sudoku[row]) != 18 or np.sum(sudoku[column]) != 18 or np.sum(sudoku[block]) != 18:\n",
        "            return False\n",
        "    return True\n",
        "        "
      ],
      "execution_count": 0,
      "outputs": []
    },
    {
      "metadata": {
        "id": "rpsiPsP-VU4z",
        "colab_type": "code",
        "colab": {
          "base_uri": "https://localhost:8080/",
          "height": 34
        },
        "outputId": "41c6da42-7bca-42ac-f6b6-3b4c54f45d63"
      },
      "cell_type": "code",
      "source": [
        "sudoku3 = constraint_propagation(sudoku2)\n",
        "#sudoku2.shape\n",
        "#sudoku4 = output_9x9(sudoku3)\n",
        "check_if_solved(sudoku3)"
      ],
      "execution_count": 266,
      "outputs": [
        {
          "output_type": "execute_result",
          "data": {
            "text/plain": [
              "True"
            ]
          },
          "metadata": {
            "tags": []
          },
          "execution_count": 266
        }
      ]
    },
    {
      "metadata": {
        "id": "qy0d98JYWfqK",
        "colab_type": "code",
        "colab": {
          "base_uri": "https://localhost:8080/",
          "height": 170
        },
        "outputId": "f6c7cf52-0375-4832-d055-d96c5e869112"
      },
      "cell_type": "code",
      "source": [
        "sudoku4"
      ],
      "execution_count": 193,
      "outputs": [
        {
          "output_type": "execute_result",
          "data": {
            "text/plain": [
              "array([[8., 7., 6., 9., 1., 4., 5., 3., 2.],\n",
              "       [3., 1., 5., 2., 8., 6., 7., 4., 9.],\n",
              "       [9., 4., 2., 3., 7., 5., 8., 6., 1.],\n",
              "       [4., 3., 8., 7., 6., 9., 2., 1., 5.],\n",
              "       [6., 9., 1., 5., 2., 3., 4., 8., 7.],\n",
              "       [2., 5., 7., 1., 4., 8., 3., 9., 6.],\n",
              "       [1., 2., 9., 4., 3., 7., 6., 5., 8.],\n",
              "       [5., 8., 4., 6., 9., 2., 1., 7., 3.],\n",
              "       [7., 6., 3., 8., 5., 1., 9., 2., 4.]])"
            ]
          },
          "metadata": {
            "tags": []
          },
          "execution_count": 193
        }
      ]
    },
    {
      "metadata": {
        "id": "pH9Uu6Iv-fRF",
        "colab_type": "code",
        "colab": {}
      },
      "cell_type": "code",
      "source": [
        ""
      ],
      "execution_count": 0,
      "outputs": []
    }
  ]
}